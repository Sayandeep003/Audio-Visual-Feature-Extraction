{
 "cells": [
  {
   "cell_type": "code",
   "execution_count": 2,
   "id": "272cba63",
   "metadata": {},
   "outputs": [],
   "source": [
    "import cv2\n",
    "\n",
    "\n",
    "face_classifier = cv2.CascadeClassifier(cv2.data.haarcascades + 'haarcascade_frontalface_default.xml')\n",
    "eye_classifier = cv2.CascadeClassifier(cv2.data.haarcascades + 'haarcascade_eye.xml')\n",
    "def detector(gray_image, frame):\n",
    "    faces = face_classifier.detectMultiScale(gray_image, 1.3, 5)\n",
    "    \n",
    "    for (x,y,w,h) in faces:\n",
    "        cv2.rectangle(frame, (x, y), (x+w, y+h), (255,0,0), 3)\n",
    "        \n",
    "        roi_gray = gray_image[y:y+h, x:x+w]\n",
    "        roi_color = frame[y:y+h, x:x+w]\n",
    "        \n",
    "        eyes = eye_classifier.detectMultiScale(roi_gray, 1.3, 5)\n",
    "        \n",
    "        for (ex,ey,ew,eh) in eyes:\n",
    "            cv2.rectangle(roi_color, (ex, ey), (ex+ew, ey+eh), (0,255,0), 3)\n",
    "            \n",
    "    return frame\n",
    "video_cap = cv2.VideoCapture('How To Flirt Using Your Eyes.mp4')\n",
    "\n",
    "while True:\n",
    "    \n",
    "    ret, frame = video_cap.read()\n",
    "    gray_frame = cv2.cvtColor(frame, cv2.COLOR_BGR2GRAY)\n",
    "    \n",
    "    detect = detector(gray_frame, frame)\n",
    "    \n",
    "    cv2.imshow(\"Video\", detect)\n",
    "    \n",
    "    if cv2.waitKey(1) & 0xFF == ord(\"q\"):\n",
    "        break\n",
    "        \n",
    "video_cap.release()\n",
    "cv2.destroyAllWindows()"
   ]
  },
  {
   "cell_type": "code",
   "execution_count": null,
   "id": "7adb1515",
   "metadata": {},
   "outputs": [],
   "source": []
  },
  {
   "cell_type": "code",
   "execution_count": null,
   "id": "e5f99b23",
   "metadata": {},
   "outputs": [],
   "source": []
  }
 ],
 "metadata": {
  "kernelspec": {
   "display_name": "Python 3",
   "language": "python",
   "name": "python3"
  },
  "language_info": {
   "codemirror_mode": {
    "name": "ipython",
    "version": 3
   },
   "file_extension": ".py",
   "mimetype": "text/x-python",
   "name": "python",
   "nbconvert_exporter": "python",
   "pygments_lexer": "ipython3",
   "version": "3.11.0 (main, Oct 24 2022, 18:26:48) [MSC v.1933 64 bit (AMD64)]"
  },
  "vscode": {
   "interpreter": {
    "hash": "42b382bc72fab5fc69af88a8c894ecc76d3f0715d627e9ea47b51512f64acabb"
   }
  }
 },
 "nbformat": 4,
 "nbformat_minor": 5
}
